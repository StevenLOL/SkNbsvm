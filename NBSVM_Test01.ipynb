{
 "cells": [
  {
   "cell_type": "code",
   "execution_count": 15,
   "metadata": {
    "collapsed": false
   },
   "outputs": [],
   "source": [
    "import numpy as np\n",
    "\n",
    "yTest = np.random.randn(20)\n",
    "yTest[yTest<0] = 0\n",
    "yTest[yTest>0] = 1\n",
    "yTest = yTest "
   ]
  },
  {
   "cell_type": "code",
   "execution_count": 16,
   "metadata": {
    "collapsed": false
   },
   "outputs": [
    {
     "data": {
      "text/plain": [
       "array([[1, 1, 1, 1, 1, 1, 1, 1, 1, 0, 1, 1, 1, 1, 0, 1, 0, 0, 0, 1]])"
      ]
     },
     "execution_count": 16,
     "metadata": {},
     "output_type": "execute_result"
    }
   ],
   "source": [
    "pos_idx = [yTest==1][0].astype(int)\n",
    "neg_idx = [yTest==0][0].astype(int)\n",
    "pos_idx = sp.csr_matrix(pos_idx.T)\n",
    "neg_idx = sp.csr_matrix(neg_idx.T)\n",
    "pos_idx.toarray()"
   ]
  },
  {
   "cell_type": "code",
   "execution_count": 24,
   "metadata": {
    "collapsed": false
   },
   "outputs": [
    {
     "name": "stdout",
     "output_type": "stream",
     "text": [
      "-0.69314718056\n"
     ]
    }
   ],
   "source": [
    "testCsr = sp.csr_matrix((yTest+1.0).T)\n",
    "print np.log(0.5)"
   ]
  },
  {
   "cell_type": "code",
   "execution_count": 4,
   "metadata": {
    "collapsed": true
   },
   "outputs": [],
   "source": [
    "from sklearn.base import BaseEstimator, TransformerMixin\n",
    "import scipy.sparse as sp\n",
    "from sklearn.preprocessing import binarize\n",
    "import numpy as np\n",
    "    \n",
    "class NBmatrix(BaseEstimator, TransformerMixin):\n",
    "   \n",
    "    \n",
    "    def __init__(self, alpha, bina, n_jobs = 1):\n",
    "        self.alpha = alpha\n",
    "        self.bina = bina\n",
    "        self.n_jobs = n_jobs\n",
    "        self.r = []\n",
    "\n",
    "    def fit(self, X, y):\n",
    "        alpha = self.alpha\n",
    "        nb_doc, voc_length = X.shape\n",
    "        pos_idx = [y==1][0].astype(int)\n",
    "        neg_idx = [y==0][0].astype(int)\n",
    "        #Store the indicator vectors in sparse format to accelerate the computations\n",
    "        pos_idx = sp.csr_matrix(pos_idx.T)\n",
    "        neg_idx = sp.csr_matrix(neg_idx.T)\n",
    "        #Use sparse format dot product to get a weightning vector stored in sparse format\n",
    "        alpha_vec = sp.csr_matrix(alpha*np.ones(voc_length))\n",
    "        p = (alpha_vec + pos_idx.dot(X)) \n",
    "        norm_p = p.sum()\n",
    "        p = p.multiply(1/norm_p)\n",
    "        #print p.toarray()\n",
    "        q = (alpha_vec + neg_idx.dot(X))\n",
    "        norm_q = q.sum()\n",
    "        q = q.multiply(1/norm_q)\n",
    "        #print q.toarray()\n",
    "        \n",
    "        ratio = sp.csr_matrix(np.log((p.multiply(sp.csr_matrix(np.expand_dims(q.toarray()[0]**(-1),axis=0)))).data))\n",
    "        #print ratio.toarray()\n",
    "        self.r = ratio #Stock the ratio vector to re-use it for transforming unlablled data\n",
    "        return self\n",
    "\n",
    "    def transform(self, X):\n",
    "        #If the binarize option is set to true, we need now to recompute \"f\", our binarized word counter\n",
    "        if(self.bina == True):\n",
    "            f_hat = binarize(X, threshold = 0.0)\n",
    "        else :\n",
    "            f_hat = X\n",
    "        \n",
    "        f_tilde = f_hat.multiply(self.r)\n",
    "        return f_tilde\n",
    "    \n",
    "    def fit_transform(self, X, y):\n",
    "        self.fit(X,y)\n",
    "        return self.transform(X)\n"
   ]
  },
  {
   "cell_type": "code",
   "execution_count": 2,
   "metadata": {
    "collapsed": false
   },
   "outputs": [
    {
     "name": "stderr",
     "output_type": "stream",
     "text": [
      "/home/ivaylo/anaconda2/lib/python2.7/site-packages/sklearn/utils/__init__.py:93: DeprecationWarning: Function transform is deprecated; Support to use estimators as feature selectors will be removed in version 0.19. Use SelectFromModel instead.\n",
      "  warnings.warn(msg, category=DeprecationWarning)\n",
      "/home/ivaylo/anaconda2/lib/python2.7/site-packages/sklearn/utils/__init__.py:93: DeprecationWarning: Function transform is deprecated; Support to use estimators as feature selectors will be removed in version 0.19. Use SelectFromModel instead.\n",
      "  warnings.warn(msg, category=DeprecationWarning)\n"
     ]
    }
   ],
   "source": [
    "from sklearn.utils.estimator_checks import check_estimator\n",
    "from sklearn.svm import LinearSVC\n",
    "\n",
    "check_estimator(LinearSVC)  # passes"
   ]
  },
  {
   "cell_type": "code",
   "execution_count": 5,
   "metadata": {
    "collapsed": false
   },
   "outputs": [
    {
     "ename": "TypeError",
     "evalue": "__init__() takes at least 3 arguments (1 given)",
     "output_type": "error",
     "traceback": [
      "\u001b[1;31m---------------------------------------------------------------------------\u001b[0m",
      "\u001b[1;31mTypeError\u001b[0m                                 Traceback (most recent call last)",
      "\u001b[1;32m<ipython-input-5-d001eccd6ffb>\u001b[0m in \u001b[0;36m<module>\u001b[1;34m()\u001b[0m\n\u001b[1;32m----> 1\u001b[1;33m \u001b[0mcheck_estimator\u001b[0m\u001b[1;33m(\u001b[0m\u001b[0mNBmatrix\u001b[0m\u001b[1;33m)\u001b[0m\u001b[1;33m\u001b[0m\u001b[0m\n\u001b[0m",
      "\u001b[1;32m/home/ivaylo/anaconda2/lib/python2.7/site-packages/sklearn/utils/estimator_checks.pyc\u001b[0m in \u001b[0;36mcheck_estimator\u001b[1;34m(Estimator)\u001b[0m\n\u001b[0;32m    210\u001b[0m     \"\"\"\n\u001b[0;32m    211\u001b[0m     \u001b[0mname\u001b[0m \u001b[1;33m=\u001b[0m \u001b[0mEstimator\u001b[0m\u001b[1;33m.\u001b[0m\u001b[0m__class__\u001b[0m\u001b[1;33m.\u001b[0m\u001b[0m__name__\u001b[0m\u001b[1;33m\u001b[0m\u001b[0m\n\u001b[1;32m--> 212\u001b[1;33m     \u001b[0mcheck_parameters_default_constructible\u001b[0m\u001b[1;33m(\u001b[0m\u001b[0mname\u001b[0m\u001b[1;33m,\u001b[0m \u001b[0mEstimator\u001b[0m\u001b[1;33m)\u001b[0m\u001b[1;33m\u001b[0m\u001b[0m\n\u001b[0m\u001b[0;32m    213\u001b[0m     \u001b[1;32mfor\u001b[0m \u001b[0mcheck\u001b[0m \u001b[1;32min\u001b[0m \u001b[0m_yield_all_checks\u001b[0m\u001b[1;33m(\u001b[0m\u001b[0mname\u001b[0m\u001b[1;33m,\u001b[0m \u001b[0mEstimator\u001b[0m\u001b[1;33m)\u001b[0m\u001b[1;33m:\u001b[0m\u001b[1;33m\u001b[0m\u001b[0m\n\u001b[0;32m    214\u001b[0m         \u001b[0mcheck\u001b[0m\u001b[1;33m(\u001b[0m\u001b[0mname\u001b[0m\u001b[1;33m,\u001b[0m \u001b[0mEstimator\u001b[0m\u001b[1;33m)\u001b[0m\u001b[1;33m\u001b[0m\u001b[0m\n",
      "\u001b[1;32m/home/ivaylo/anaconda2/lib/python2.7/site-packages/sklearn/utils/estimator_checks.pyc\u001b[0m in \u001b[0;36mcheck_parameters_default_constructible\u001b[1;34m(name, Estimator)\u001b[0m\n\u001b[0;32m   1376\u001b[0m             \u001b[0mestimator\u001b[0m \u001b[1;33m=\u001b[0m \u001b[0mEstimator\u001b[0m\u001b[1;33m(\u001b[0m\u001b[0mclassifier\u001b[0m\u001b[1;33m)\u001b[0m\u001b[1;33m\u001b[0m\u001b[0m\n\u001b[0;32m   1377\u001b[0m         \u001b[1;32melse\u001b[0m\u001b[1;33m:\u001b[0m\u001b[1;33m\u001b[0m\u001b[0m\n\u001b[1;32m-> 1378\u001b[1;33m             \u001b[0mestimator\u001b[0m \u001b[1;33m=\u001b[0m \u001b[0mEstimator\u001b[0m\u001b[1;33m(\u001b[0m\u001b[1;33m)\u001b[0m\u001b[1;33m\u001b[0m\u001b[0m\n\u001b[0m\u001b[0;32m   1379\u001b[0m         \u001b[1;31m# test cloning\u001b[0m\u001b[1;33m\u001b[0m\u001b[1;33m\u001b[0m\u001b[0m\n\u001b[0;32m   1380\u001b[0m         \u001b[0mclone\u001b[0m\u001b[1;33m(\u001b[0m\u001b[0mestimator\u001b[0m\u001b[1;33m)\u001b[0m\u001b[1;33m\u001b[0m\u001b[0m\n",
      "\u001b[1;31mTypeError\u001b[0m: __init__() takes at least 3 arguments (1 given)"
     ]
    }
   ],
   "source": [
    "check_estimator(NBmatrix)"
   ]
  }
 ],
 "metadata": {
  "kernelspec": {
   "display_name": "Python 2",
   "language": "python",
   "name": "python2"
  },
  "language_info": {
   "codemirror_mode": {
    "name": "ipython",
    "version": 2
   },
   "file_extension": ".py",
   "mimetype": "text/x-python",
   "name": "python",
   "nbconvert_exporter": "python",
   "pygments_lexer": "ipython2",
   "version": "2.7.11"
  }
 },
 "nbformat": 4,
 "nbformat_minor": 0
}
